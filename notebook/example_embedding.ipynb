{
 "cells": [
  {
   "cell_type": "code",
   "execution_count": 1,
   "metadata": {},
   "outputs": [],
   "source": [
    "from pathlib import Path\n",
    "import matplotlib.pyplot as plt\n",
    "from sklearn.manifold import TSNE\n",
    "import torch\n",
    "from torch_geometric.nn import Node2Vec\n",
    "from torch_geometric.datasets import Planetoid"
   ]
  },
  {
   "cell_type": "code",
   "execution_count": 2,
   "metadata": {},
   "outputs": [
    {
     "name": "stdout",
     "output_type": "stream",
     "text": [
      "torch.Size([4, 2])\n"
     ]
    },
    {
     "data": {
      "text/plain": [
       "tensor([[ 0.6069, -0.6366],\n",
       "        [ 0.3909, -0.1595],\n",
       "        [-0.4410,  0.4885],\n",
       "        [ 0.3909, -0.1595]], grad_fn=<EmbeddingBackward0>)"
      ]
     },
     "execution_count": 2,
     "metadata": {},
     "output_type": "execute_result"
    }
   ],
   "source": [
    "num_nodes = 3\n",
    "embedding = torch.nn.Embedding(num_nodes, 2)\n",
    "sample_path = torch.LongTensor([0, 1, 2, 1])  # pathの長さは任意\n",
    "Z = embedding(sample_path)\n",
    "print(Z.shape)\n",
    "Z"
   ]
  },
  {
   "cell_type": "code",
   "execution_count": 5,
   "metadata": {},
   "outputs": [
    {
     "name": "stdout",
     "output_type": "stream",
     "text": [
      "[[0.95552694 0.94687396]\n",
      " [0.02483865 0.7005039 ]\n",
      " [0.20866118 0.60114873]]\n"
     ]
    },
    {
     "data": {
      "text/plain": [
       "array([[0.95552694, 0.94687396],\n",
       "       [0.02483865, 0.7005039 ],\n",
       "       [0.20866118, 0.60114873],\n",
       "       [0.02483865, 0.7005039 ]])"
      ]
     },
     "execution_count": 5,
     "metadata": {},
     "output_type": "execute_result"
    }
   ],
   "source": [
    "import numpy as np\n",
    "matrix = np.random.random([num_nodes, 2])  # 64-dimensional embeddings\n",
    "print(matrix)\n",
    "ids = np.array([0, 1, 2, 1])\n",
    "matrix[ids]  # prints a matrix of shape [4, 64] "
   ]
  },
  {
   "cell_type": "code",
   "execution_count": null,
   "metadata": {},
   "outputs": [],
   "source": []
  }
 ],
 "metadata": {
  "interpreter": {
   "hash": "9c967383f2691357114d2d6d1a678416fb2ed4479689e1d4a2cda79c2e71d2b5"
  },
  "kernelspec": {
   "display_name": "Python 3.8.0 ('grl')",
   "language": "python",
   "name": "python3"
  },
  "language_info": {
   "codemirror_mode": {
    "name": "ipython",
    "version": 3
   },
   "file_extension": ".py",
   "mimetype": "text/x-python",
   "name": "python",
   "nbconvert_exporter": "python",
   "pygments_lexer": "ipython3",
   "version": "3.8.0"
  },
  "orig_nbformat": 4
 },
 "nbformat": 4,
 "nbformat_minor": 2
}
