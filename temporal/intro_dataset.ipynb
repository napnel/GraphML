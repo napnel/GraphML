{
 "cells": [
  {
   "cell_type": "code",
   "execution_count": 26,
   "metadata": {},
   "outputs": [],
   "source": [
    "import torch\n",
    "import torch.nn.functional as F\n",
    "from torch_geometric_temporal.dataset import PedalMeDatasetLoader\n",
    "from torch_geometric_temporal.nn.recurrent import TGCN\n",
    "from torch_geometric_temporal.signal import temporal_signal_split\n",
    "from tqdm import tqdm"
   ]
  },
  {
   "cell_type": "code",
   "execution_count": 27,
   "metadata": {},
   "outputs": [],
   "source": [
    "downloader = PedalMeDatasetLoader()"
   ]
  },
  {
   "cell_type": "code",
   "execution_count": 28,
   "metadata": {},
   "outputs": [],
   "source": [
    "dataset = downloader.get_dataset()"
   ]
  },
  {
   "cell_type": "code",
   "execution_count": 29,
   "metadata": {},
   "outputs": [
    {
     "data": {
      "text/plain": [
       "(2, 225)"
      ]
     },
     "execution_count": 29,
     "metadata": {},
     "output_type": "execute_result"
    }
   ],
   "source": [
    "dataset.edge_index.shape"
   ]
  },
  {
   "cell_type": "code",
   "execution_count": 30,
   "metadata": {},
   "outputs": [
    {
     "name": "stdout",
     "output_type": "stream",
     "text": [
      "Total number of dataset: 31\n",
      "(15, 4)\n",
      "(15, 4)\n",
      "(15, 4)\n",
      "(15, 4)\n",
      "(15, 4)\n",
      "(15, 4)\n",
      "(15, 4)\n",
      "(15, 4)\n",
      "(15, 4)\n",
      "(15, 4)\n",
      "(15, 4)\n",
      "(15, 4)\n",
      "(15, 4)\n",
      "(15, 4)\n",
      "(15, 4)\n",
      "(15, 4)\n",
      "(15, 4)\n",
      "(15, 4)\n",
      "(15, 4)\n",
      "(15, 4)\n",
      "(15, 4)\n",
      "(15, 4)\n",
      "(15, 4)\n",
      "(15, 4)\n",
      "(15, 4)\n",
      "(15, 4)\n",
      "(15, 4)\n",
      "(15, 4)\n",
      "(15, 4)\n",
      "(15, 4)\n",
      "(15, 4)\n"
     ]
    }
   ],
   "source": [
    "print(f\"Total number of dataset: {len(dataset.features)}\")\n",
    "for feature in dataset.features:\n",
    "    print(feature.shape)\n",
    "\n",
    "# n_nodes * features"
   ]
  },
  {
   "cell_type": "code",
   "execution_count": 31,
   "metadata": {},
   "outputs": [
    {
     "name": "stdout",
     "output_type": "stream",
     "text": [
      "Total number of dataset: 31\n",
      "(15,)\n",
      "(15,)\n",
      "(15,)\n",
      "(15,)\n",
      "(15,)\n",
      "(15,)\n",
      "(15,)\n",
      "(15,)\n",
      "(15,)\n",
      "(15,)\n",
      "(15,)\n",
      "(15,)\n",
      "(15,)\n",
      "(15,)\n",
      "(15,)\n",
      "(15,)\n",
      "(15,)\n",
      "(15,)\n",
      "(15,)\n",
      "(15,)\n",
      "(15,)\n",
      "(15,)\n",
      "(15,)\n",
      "(15,)\n",
      "(15,)\n",
      "(15,)\n",
      "(15,)\n",
      "(15,)\n",
      "(15,)\n",
      "(15,)\n",
      "(15,)\n"
     ]
    }
   ],
   "source": [
    "print(f\"Total number of dataset: {len(dataset.targets)}\")\n",
    "for target in dataset.targets:\n",
    "    print(target.shape)\n",
    "\n",
    "# n_node * 1 ==> "
   ]
  },
  {
   "cell_type": "code",
   "execution_count": 32,
   "metadata": {},
   "outputs": [],
   "source": [
    "train_dataset, test_dataset = temporal_signal_split(dataset, train_ratio=0.2)"
   ]
  },
  {
   "cell_type": "code",
   "execution_count": 33,
   "metadata": {},
   "outputs": [],
   "source": [
    "class RecurrentGCN(torch.nn.Module):\n",
    "    def __init__(self, node_features):\n",
    "        super(RecurrentGCN, self).__init__()\n",
    "        self.recurrent = TGCN(node_features, 32)\n",
    "        self.linear = torch.nn.Linear(32, 1)\n",
    "\n",
    "    def forward(self, x, edge_index, edge_weight):\n",
    "        h = self.recurrent(x, edge_index, edge_weight)\n",
    "        h = F.relu(h)\n",
    "        h = self.linear(h)\n",
    "        return h"
   ]
  },
  {
   "cell_type": "code",
   "execution_count": 34,
   "metadata": {},
   "outputs": [
    {
     "name": "stderr",
     "output_type": "stream",
     "text": [
      "100%|██████████| 50/50 [00:00<00:00, 86.18it/s]"
     ]
    },
    {
     "name": "stdout",
     "output_type": "stream",
     "text": [
      "MSE: 0.5202\n"
     ]
    },
    {
     "name": "stderr",
     "output_type": "stream",
     "text": [
      "\n"
     ]
    }
   ],
   "source": [
    "model = RecurrentGCN(node_features=4)\n",
    "optimizer = torch.optim.Adam(model.parameters(), lr=0.01)\n",
    "model.train()\n",
    "\n",
    "for epoch in tqdm(range(50)):\n",
    "    loss = 0\n",
    "    for time, snapshot in enumerate(train_dataset):\n",
    "        y_hat = model(snapshot.x, snapshot.edge_index, snapshot.edge_attr)\n",
    "        loss = loss + torch.mean((y_hat - snapshot.y) ** 2)\n",
    "    loss = loss / (time + 1)\n",
    "    loss.backward()\n",
    "    optimizer.step()\n",
    "    optimizer.zero_grad()\n",
    "\n",
    "model.eval()\n",
    "loss = 0\n",
    "for time, snapshot in enumerate(test_dataset):\n",
    "    y_hat = model(snapshot.x, snapshot.edge_index, snapshot.edge_attr)\n",
    "    loss = loss + torch.mean((y_hat - snapshot.y) ** 2)\n",
    "loss = loss / (time + 1)\n",
    "loss = loss.item()\n",
    "print(\"MSE: {:.4f}\".format(loss))\n"
   ]
  }
 ],
 "metadata": {
  "interpreter": {
   "hash": "b81c8522e7ba4f7a11640b04e8023146e0435eb87c30498efb93c38ca3bc34ba"
  },
  "kernelspec": {
   "display_name": "Python 3.7.0 ('kaggle')",
   "language": "python",
   "name": "python3"
  },
  "language_info": {
   "codemirror_mode": {
    "name": "ipython",
    "version": 3
   },
   "file_extension": ".py",
   "mimetype": "text/x-python",
   "name": "python",
   "nbconvert_exporter": "python",
   "pygments_lexer": "ipython3",
   "version": "3.7.0"
  },
  "orig_nbformat": 4
 },
 "nbformat": 4,
 "nbformat_minor": 2
}
